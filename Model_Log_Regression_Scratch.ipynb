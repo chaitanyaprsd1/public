{
  "nbformat": 4,
  "nbformat_minor": 0,
  "metadata": {
    "colab": {
      "provenance": [],
      "authorship_tag": "ABX9TyNNuB5km4jxmP3YCXaSaZBj",
      "include_colab_link": true
    },
    "kernelspec": {
      "name": "python3",
      "display_name": "Python 3"
    },
    "language_info": {
      "name": "python"
    },
    "gpuClass": "standard"
  },
  "cells": [
    {
      "cell_type": "markdown",
      "metadata": {
        "id": "view-in-github",
        "colab_type": "text"
      },
      "source": [
        "<a href=\"https://colab.research.google.com/github/chaitanyaprsd1/public/blob/main/Model_Log_Regression_Scratch.ipynb\" target=\"_parent\"><img src=\"https://colab.research.google.com/assets/colab-badge.svg\" alt=\"Open In Colab\"/></a>"
      ]
    },
    {
      "cell_type": "markdown",
      "source": [
        "Importing all necessary packages"
      ],
      "metadata": {
        "id": "QFwvHWxb-nIZ"
      }
    },
    {
      "cell_type": "code",
      "execution_count": 1,
      "metadata": {
        "id": "XeIjtdvZ7lXx"
      },
      "outputs": [],
      "source": [
        "import numpy as np\n",
        "import pandas as pd\n",
        "import matplotlib.pyplot as plt"
      ]
    },
    {
      "cell_type": "markdown",
      "source": [
        "Splitting the dataset into training and validation sets in the ratio of 4:1"
      ],
      "metadata": {
        "id": "-yHQxVsI-vn5"
      }
    },
    {
      "cell_type": "code",
      "source": [
        "def split_dataset(X_data, Y_data):\n",
        "\n",
        "    train_split_X=[]\n",
        "    validation_split_X=[]\n",
        "    train_split_Y=[]\n",
        "    validation_split_Y=[]\n",
        "    divisor = 5\n",
        "    \n",
        "    num_rows = X_data.shape[0]\n",
        "    inds = list(range(num_rows))\n",
        "\n",
        "    rem = np.remainder(inds, divisor)\n",
        "\n",
        "    for i in range(len(inds)):\n",
        "        \n",
        "        if rem[i] != 4:\n",
        "            train_split_X.append(X_data[i])\n",
        "            train_split_Y.append(Y_data[i])\n",
        "\n",
        "        else:\n",
        "            validation_split_X.append(X_data[i])\n",
        "            validation_split_Y.append(Y_data[i])\n",
        "\n",
        "\n",
        "    trainset_X = np.asarray(train_split_X)\n",
        "    trainset_Y = np.asarray(train_split_Y)\n",
        "    validset_X = np.asarray(validation_split_X)\n",
        "    validset_Y = np.asarray(validation_split_Y)\n",
        "\n",
        "    return (trainset_X, trainset_Y, validset_X, validset_Y)    "
      ],
      "metadata": {
        "id": "Bx46FDdI73p1"
      },
      "execution_count": 2,
      "outputs": []
    },
    {
      "cell_type": "markdown",
      "source": [
        "Functions implementing Logistic Regression"
      ],
      "metadata": {
        "id": "dzOf5ANO-6P9"
      }
    },
    {
      "cell_type": "code",
      "source": [
        "def softmax(z):\n",
        "    temp = np.sum(np.exp(z),axis=1)\n",
        "    return np.exp(z) / temp.reshape(-1,1)\n",
        "\n",
        "def pred_softmax(z):\n",
        "    temp = np.sum(np.exp(z))\n",
        "    return np.exp(z) / temp\n",
        " \n",
        "def cost_function(targets, predictions):\n",
        "    epsilon = 0.00001\n",
        "    predictions = np.clip(predictions, epsilon, 1. - epsilon)\n",
        "    N = predictions.shape[0]\n",
        "    cost = -np.sum(targets*np.log(predictions))/N\n",
        "    return cost\n",
        "\n",
        "def gradient_descent(X, prob, Y):\n",
        "    return np.matmul(X.T, prob - Y)\n",
        "\n",
        "\n",
        "def logistic_regression(X, Y, alpha):\n",
        "    iterations = 10000000\n",
        "    N = X.shape[0]\n",
        "    d = X.shape[1]\n",
        "\n",
        "    weights = np.ones((Y.shape[1], d))\n",
        "\n",
        "    Lvals = []\n",
        "\n",
        "    for iter in range(iterations):\n",
        "        sigma = softmax(np.matmul(X, weights.T))\n",
        "        L = cost_function(Y, sigma) # computes average loss for whole dataset\n",
        "        Lvals.append(L)\n",
        "                \n",
        "        dw = gradient_descent(X, sigma, Y)\n",
        "\n",
        "        weights = weights - alpha * dw.T/X.shape[0]\n",
        "        \n",
        "        #  Iteration stopping criterion      \n",
        "        if len(Lvals) > 3:\n",
        "            if iter % 1000 == 0:\n",
        "                print('running iteration {} at a loss of {}'.format( iter, Lvals[-1]))\n",
        "            if iter % 2 == 0:\n",
        "                if abs(Lvals[-1] - Lvals[-2]) < 0.00001:\n",
        "                    if abs(Lvals[-1] - Lvals[-3]) < 0.00001:\n",
        "                        print(\"Successfully fitted to training data after {} iterations\".format(iter))\n",
        "                        return weights, Lvals\n",
        "                        break            \n",
        "    \n",
        "def predict_class(X, weights):\n",
        "    N = X.shape[0]\n",
        "    pred = []\n",
        "    for i in range(N):\n",
        "        XiHat = X[i]\n",
        "        qi = pred_softmax(np.matmul(XiHat, weights.T))\n",
        "        classes = np.argmax(qi)\n",
        "        pred.append(classes)\n",
        "    print(pred)\n",
        "    return pred\n",
        "\n",
        "def error_count(pred_list, Y, alpha):\n",
        "    cnt = 0\n",
        "    for i in range(len(pred_list)):\n",
        "        y = np.where(Y[i] == 1)\n",
        "        if pred_list[i] == y:\n",
        "            cnt += 1        \n",
        "    print('Training Accuracy with learning rate of {} -> {}'.format(alpha, cnt / len(pred_list)))"
      ],
      "metadata": {
        "id": "dMwCXD9p8A1a"
      },
      "execution_count": 3,
      "outputs": []
    },
    {
      "cell_type": "markdown",
      "source": [
        "Downloading training data"
      ],
      "metadata": {
        "id": "OykW7C7r_Mk1"
      }
    },
    {
      "cell_type": "code",
      "source": [
        "from google.colab import drive\n",
        "drive.mount('/content/drive')"
      ],
      "metadata": {
        "colab": {
          "base_uri": "https://localhost:8080/"
        },
        "id": "T5iHVZkq_ags",
        "outputId": "b0aa843c-cd63-42be-87f8-f5c3242ae321"
      },
      "execution_count": 4,
      "outputs": [
        {
          "output_type": "stream",
          "name": "stdout",
          "text": [
            "Mounted at /content/drive\n"
          ]
        }
      ]
    },
    {
      "cell_type": "code",
      "source": [
        "######################################################################################################################\n",
        "# download training data X\n",
        "df_train_X = pd.read_csv(r'/content/drive/MyDrive/Data_Kaggle1/train.csv')\n",
        "df_train_X = df_train_X.iloc[:, :-1]\n",
        "bias = np.ones((df_train_X.shape[0], 1))\n",
        "df_train_X = np.concatenate((bias, df_train_X), axis=1) # Dummy column of 1s added to feature matrix for bias\n",
        "\n",
        "# download training labels Y\n",
        "df_Y = pd.read_csv(r'/content/drive/MyDrive/Data_Kaggle1/train_result.csv')\n",
        "df_Y = df_Y.iloc[:, -1]\n",
        "df_Y.to_numpy()\n",
        "Y_onehot = pd.get_dummies(df_Y).values # One hot encoding of training labels"
      ],
      "metadata": {
        "id": "qC--EYMv8KSb"
      },
      "execution_count": 5,
      "outputs": []
    },
    {
      "cell_type": "markdown",
      "source": [
        "Data split to estimate training and validation error rate"
      ],
      "metadata": {
        "id": "VX2yVwwz9bb8"
      }
    },
    {
      "cell_type": "code",
      "source": [
        "X_train = split_dataset(df_train_X, Y_onehot)[0]\n",
        "y_train = split_dataset(df_train_X, Y_onehot)[1]\n",
        "X_valid = split_dataset(df_train_X, Y_onehot)[2]\n",
        "y_valid = split_dataset(df_train_X, Y_onehot)[3]"
      ],
      "metadata": {
        "id": "S8cDEn1B9YBS"
      },
      "execution_count": 6,
      "outputs": []
    },
    {
      "cell_type": "code",
      "source": [
        "print(X_train.shape, y_train.shape, X_valid.shape, y_valid.shape)"
      ],
      "metadata": {
        "colab": {
          "base_uri": "https://localhost:8080/"
        },
        "id": "nx9eIUXw_6du",
        "outputId": "0c81b4f0-591e-4bdd-a229-d45c9904101b"
      },
      "execution_count": 7,
      "outputs": [
        {
          "output_type": "stream",
          "name": "stdout",
          "text": [
            "(40000, 1569) (40000, 19) (10000, 1569) (10000, 19)\n"
          ]
        }
      ]
    },
    {
      "cell_type": "code",
      "source": [
        "\n",
        "############################################## EXECUTION ############################################################\n",
        "#alpha = [0.001, 0.01, 0.025, 0.05, 0.1, 0.2, 0.3, 0.4, 0.5] <--------------- iterate over various learning rates\n",
        "alpha = [0.2]\n",
        "\n",
        "weights, Lvals = logistic_regression(X_train, y_train, alpha)\n",
        "\n",
        "# Predicting training accuracy\n",
        "pred_train = predict_class(X_train, weights)\n",
        "error_count(pred_train, y_train, alpha)\n",
        "\n",
        "# Predicting validation accuracy\n",
        "pred_valid = predict_class(X_valid, weights)\n",
        "error_count(pred_valid, y_valid, alpha)"
      ],
      "metadata": {
        "colab": {
          "base_uri": "https://localhost:8080/",
          "height": 441
        },
        "id": "TapUKLyE-auQ",
        "outputId": "cc8e3e94-95c0-45bc-f9b7-5e74f87efc2d"
      },
      "execution_count": 8,
      "outputs": [
        {
          "output_type": "stream",
          "name": "stdout",
          "text": [
            "running iteration 10 at a loss of 2.677244643875199\n",
            "running iteration 20 at a loss of 2.5980043315521146\n",
            "running iteration 30 at a loss of 2.543982728863315\n",
            "running iteration 40 at a loss of 2.504185384516139\n"
          ]
        },
        {
          "output_type": "error",
          "ename": "KeyboardInterrupt",
          "evalue": "ignored",
          "traceback": [
            "\u001b[0;31m---------------------------------------------------------------------------\u001b[0m",
            "\u001b[0;31mKeyboardInterrupt\u001b[0m                         Traceback (most recent call last)",
            "\u001b[0;32m<ipython-input-8-e099951aed6f>\u001b[0m in \u001b[0;36m<module>\u001b[0;34m\u001b[0m\n\u001b[1;32m      3\u001b[0m \u001b[0malpha\u001b[0m \u001b[0;34m=\u001b[0m \u001b[0;34m[\u001b[0m\u001b[0;36m0.2\u001b[0m\u001b[0;34m]\u001b[0m\u001b[0;34m\u001b[0m\u001b[0;34m\u001b[0m\u001b[0m\n\u001b[1;32m      4\u001b[0m \u001b[0;34m\u001b[0m\u001b[0m\n\u001b[0;32m----> 5\u001b[0;31m \u001b[0mweights\u001b[0m\u001b[0;34m,\u001b[0m \u001b[0mLvals\u001b[0m \u001b[0;34m=\u001b[0m \u001b[0mlogistic_regression\u001b[0m\u001b[0;34m(\u001b[0m\u001b[0mX_train\u001b[0m\u001b[0;34m,\u001b[0m \u001b[0my_train\u001b[0m\u001b[0;34m,\u001b[0m \u001b[0malpha\u001b[0m\u001b[0;34m)\u001b[0m\u001b[0;34m\u001b[0m\u001b[0;34m\u001b[0m\u001b[0m\n\u001b[0m\u001b[1;32m      6\u001b[0m \u001b[0;34m\u001b[0m\u001b[0m\n\u001b[1;32m      7\u001b[0m \u001b[0;31m# Predicting training accuracy\u001b[0m\u001b[0;34m\u001b[0m\u001b[0;34m\u001b[0m\u001b[0;34m\u001b[0m\u001b[0m\n",
            "\u001b[0;32m<ipython-input-3-1f50996e0d71>\u001b[0m in \u001b[0;36mlogistic_regression\u001b[0;34m(X, Y, alpha)\u001b[0m\n\u001b[1;32m     28\u001b[0m \u001b[0;34m\u001b[0m\u001b[0m\n\u001b[1;32m     29\u001b[0m     \u001b[0;32mfor\u001b[0m \u001b[0miter\u001b[0m \u001b[0;32min\u001b[0m \u001b[0mrange\u001b[0m\u001b[0;34m(\u001b[0m\u001b[0miterations\u001b[0m\u001b[0;34m)\u001b[0m\u001b[0;34m:\u001b[0m\u001b[0;34m\u001b[0m\u001b[0;34m\u001b[0m\u001b[0m\n\u001b[0;32m---> 30\u001b[0;31m         \u001b[0msigma\u001b[0m \u001b[0;34m=\u001b[0m \u001b[0msoftmax\u001b[0m\u001b[0;34m(\u001b[0m\u001b[0mnp\u001b[0m\u001b[0;34m.\u001b[0m\u001b[0mmatmul\u001b[0m\u001b[0;34m(\u001b[0m\u001b[0mX\u001b[0m\u001b[0;34m,\u001b[0m \u001b[0mweights\u001b[0m\u001b[0;34m.\u001b[0m\u001b[0mT\u001b[0m\u001b[0;34m)\u001b[0m\u001b[0;34m)\u001b[0m\u001b[0;34m\u001b[0m\u001b[0;34m\u001b[0m\u001b[0m\n\u001b[0m\u001b[1;32m     31\u001b[0m         \u001b[0mL\u001b[0m \u001b[0;34m=\u001b[0m \u001b[0mcost_function\u001b[0m\u001b[0;34m(\u001b[0m\u001b[0mY\u001b[0m\u001b[0;34m,\u001b[0m \u001b[0msigma\u001b[0m\u001b[0;34m)\u001b[0m \u001b[0;31m# computes average loss for whole dataset\u001b[0m\u001b[0;34m\u001b[0m\u001b[0;34m\u001b[0m\u001b[0m\n\u001b[1;32m     32\u001b[0m         \u001b[0mLvals\u001b[0m\u001b[0;34m.\u001b[0m\u001b[0mappend\u001b[0m\u001b[0;34m(\u001b[0m\u001b[0mL\u001b[0m\u001b[0;34m)\u001b[0m\u001b[0;34m\u001b[0m\u001b[0;34m\u001b[0m\u001b[0m\n",
            "\u001b[0;31mKeyboardInterrupt\u001b[0m: "
          ]
        }
      ]
    },
    {
      "cell_type": "markdown",
      "source": [
        "Kaggle Submission"
      ],
      "metadata": {
        "id": "CvseTFN287fw"
      }
    },
    {
      "cell_type": "code",
      "source": [
        "df_test_X = pd.read_csv(r'/content/drive/MyDrive/Data_Kaggle1/test.csv')\n",
        "df_test_X = df_test_X.iloc[:, :-1]\n",
        "list_index = list(df_test_X.index.values)\n",
        "test_set_size = df_test_X.shape[0]\n",
        "bias_test = np.ones((df_test_X.shape[0], 1))  # Dummy column of 1s added to feature matrix for bias\n",
        "df_test_X = np.concatenate((bias_test, df_test_X), axis=1)    \n",
        "pred_test = predict_class(df_test_X, weights)"
      ],
      "metadata": {
        "id": "fM0z_F3N86D3"
      },
      "execution_count": null,
      "outputs": []
    },
    {
      "cell_type": "code",
      "source": [
        "# out = pd.DataFrame({'Index': list_index,'Class':pred_test})\n",
        "# filename = 'LGR_LR0.2.csv'\n",
        "# out.to_csv(filename, index=False)\n",
        "# print('Saved file: ' + filename)"
      ],
      "metadata": {
        "id": "8-ZjkgDpCnT5"
      },
      "execution_count": null,
      "outputs": []
    }
  ]
}