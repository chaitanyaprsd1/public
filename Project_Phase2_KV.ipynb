{
  "nbformat": 4,
  "nbformat_minor": 0,
  "metadata": {
    "colab": {
      "name": "Untitled7.ipynb",
      "provenance": [],
      "authorship_tag": "ABX9TyOIt94gsesJwAB5k/PHHvWY",
      "include_colab_link": true
    },
    "kernelspec": {
      "name": "python3",
      "display_name": "Python 3"
    },
    "language_info": {
      "name": "python"
    }
  },
  "cells": [
    {
      "cell_type": "markdown",
      "metadata": {
        "id": "view-in-github",
        "colab_type": "text"
      },
      "source": [
        "<a href=\"https://colab.research.google.com/github/chaitanyaprsd1/public/blob/main/Project_Phase2_KV.ipynb\" target=\"_parent\"><img src=\"https://colab.research.google.com/assets/colab-badge.svg\" alt=\"Open In Colab\"/></a>"
      ]
    },
    {
      "cell_type": "markdown",
      "metadata": {
        "id": "BH-4jyTzXdu2"
      },
      "source": [
        "# My code with time"
      ]
    },
    {
      "cell_type": "code",
      "metadata": {
        "id": "_K2KvOEZXciC"
      },
      "source": [
        "import requests\n",
        "import numpy as np\n",
        "import json\n",
        "import time"
      ],
      "execution_count": 1,
      "outputs": []
    },
    {
      "cell_type": "code",
      "metadata": {
        "colab": {
          "base_uri": "https://localhost:8080/"
        },
        "id": "9H-7YxhNXtOp",
        "outputId": "74075850-0cf5-4d79-b0f5-6f3358eeb0fd"
      },
      "source": [
        "def test(game_id):\n",
        "    url = f'https://statsapi.web.nhl.com/api/v1/game/{str(game_id)}/feed/live/'\n",
        "    data = requests.get(url)\n",
        "    if(data.status_code < 400):\n",
        "         with open(f'{game_id}.json', 'wb') as outf:\n",
        "             outf.write(data.content)\n",
        "    else:\n",
        "        pass\n",
        "\n",
        "start_time = time.time()\n",
        "year = np.arange(2016,2018,1)\n",
        "game_type = np.arange(1,3,1)\n",
        "game_no = np.arange(1,2,1)\n",
        "\n",
        "for i in year:\n",
        "    for j in game_type:\n",
        "        for k in game_no:\n",
        "            game_id = int(i*1E6+j*1E4+k)\n",
        "            test(game_id)\n",
        "end_time = time.time()-start_time\n",
        "print('time taken =', end_time)"
      ],
      "execution_count": 3,
      "outputs": [
        {
          "output_type": "stream",
          "name": "stdout",
          "text": [
            "time taken = 2.843000650405884\n"
          ]
        }
      ]
    },
    {
      "cell_type": "code",
      "metadata": {
        "id": "jbfLAj-LYkgD"
      },
      "source": [
        "from google.colab import drive\n",
        "drive.mount('/content/drive')"
      ],
      "execution_count": null,
      "outputs": []
    }
  ]
}