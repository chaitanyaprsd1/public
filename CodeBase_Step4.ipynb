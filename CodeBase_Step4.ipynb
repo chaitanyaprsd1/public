{
  "nbformat": 4,
  "nbformat_minor": 0,
  "metadata": {
    "colab": {
      "name": "Copy of Copy of Untitled8.ipynb",
      "provenance": [],
      "authorship_tag": "ABX9TyNBVtMv4O7tt/oUqbNKa82D",
      "include_colab_link": true
    },
    "kernelspec": {
      "name": "python3",
      "display_name": "Python 3"
    },
    "language_info": {
      "name": "python"
    }
  },
  "cells": [
    {
      "cell_type": "markdown",
      "metadata": {
        "id": "view-in-github",
        "colab_type": "text"
      },
      "source": [
        "<a href=\"https://colab.research.google.com/github/chaitanyaprsd1/public/blob/main/CodeBase_Step4.ipynb\" target=\"_parent\"><img src=\"https://colab.research.google.com/assets/colab-badge.svg\" alt=\"Open In Colab\"/></a>"
      ]
    },
    {
      "cell_type": "code",
      "metadata": {
        "colab": {
          "base_uri": "https://localhost:8080/"
        },
        "id": "2H47vrAlzM6z",
        "outputId": "01504452-e4a8-4c77-de6e-3c7f4734b150"
      },
      "source": [
        "import numpy as np\n",
        "import pandas as pd\n",
        "import json\n",
        "\n",
        "with open('/2016020001.json','r') as f:\n",
        "    data = json.load(f)\n",
        "df = pd.DataFrame(data)\n",
        "\n",
        "count = 0\n",
        "dummy = []\n",
        "\n",
        "for i in df['liveData']['plays']['allPlays']:\n",
        "    \n",
        "    event = i['result']['event']\n",
        "    \n",
        "    if event == \"Goal\" or event == \"Shot\":\n",
        "        \n",
        "        game_id = df['gamePk']['wait']\n",
        "        \n",
        "        event_time = i['about']['periodTime']\n",
        "        period = i['about']['period']\n",
        "        period_type = i['about']['periodType']\n",
        "        game_time = i['about']['dateTime']\n",
        "        \n",
        "        home_team = df['gameData']['teams']['home']['name']\n",
        "        away_team = df['gameData']['teams']['away']['name']\n",
        "        \n",
        "        shot_by_team = i['team']['name']\n",
        "        \n",
        "        x_ice = i['coordinates']['x']\n",
        "        y_ice = i['coordinates']['y']\n",
        "        \n",
        "        for j in i['players']:\n",
        "            if j['playerType'] == \"Shooter\" or j['playerType'] == \"Scorer\":\n",
        "                shooter = j['player']['fullName']\n",
        "            elif j['playerType'] == \"Goalie\":\n",
        "                goalie = j['player']['fullName']     \n",
        "            else:\n",
        "                pass\n",
        "        \n",
        "        shot_type = i['result']['secondaryType']\n",
        "        \n",
        "        if event == \"Goal\":\n",
        "            strength = i['result']['strength']['name']\n",
        "        else:\n",
        "            strength = \"NAN\"\n",
        "        dummy.append([game_id,event_time,period,period_type,game_time,home_team,away_team,event,shot_by_team,x_ice,y_ice,shooter,goalie,shot_type,strength])\n",
        "df2 = pd.DataFrame(dummy, columns = columns)\n",
        "        # result = pd.DataFrame(zip(game_id,event_time,period,period_type,game_time,home_team,away_team,event,shot_by_team,x_ice,y_ice,shooter,goalie,shot_type,strength))\n",
        "print(df2.head())"
      ],
      "execution_count": null,
      "outputs": [
        {
          "output_type": "stream",
          "name": "stdout",
          "text": [
            "           0      1   2   ...                 12          13   14\n",
            "0  2016020001  01:11   1  ...     Craig Anderson  Wrist Shot  NAN\n",
            "1  2016020001  02:53   1  ...  Frederik Andersen  Wrist Shot  NAN\n",
            "2  2016020001  04:01   1  ...  Frederik Andersen  Wrist Shot  NAN\n",
            "3  2016020001  04:46   1  ...  Frederik Andersen   Slap Shot  NAN\n",
            "4  2016020001  06:46   1  ...     Craig Anderson  Wrist Shot  NAN\n",
            "\n",
            "[5 rows x 15 columns]\n"
          ]
        }
      ]
    }
  ]
}